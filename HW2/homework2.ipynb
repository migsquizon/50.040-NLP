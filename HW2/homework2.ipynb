{
  "nbformat": 4,
  "nbformat_minor": 0,
  "metadata": {
    "kernelspec": {
      "display_name": "Python 3",
      "language": "python",
      "name": "python3"
    },
    "language_info": {
      "codemirror_mode": {
        "name": "ipython",
        "version": 3
      },
      "file_extension": ".py",
      "mimetype": "text/x-python",
      "name": "python",
      "nbconvert_exporter": "python",
      "pygments_lexer": "ipython3",
      "version": "3.7.3"
    },
    "colab": {
      "name": "homework2.ipynb",
      "provenance": [],
      "collapsed_sections": []
    },
    "accelerator": "GPU"
  },
  "cells": [
    {
      "cell_type": "markdown",
      "metadata": {
        "id": "JGpjwDsZWkhQ",
        "colab_type": "text"
      },
      "source": [
        "# 50.040 Natural Language Processing (Summer 2020) Homework 2\n",
        "\n",
        "**Due**"
      ]
    },
    {
      "cell_type": "markdown",
      "metadata": {
        "id": "XjOrxr6CWkhR",
        "colab_type": "text"
      },
      "source": [
        "\n",
        "### STUDENT ID: 1003014\n",
        "\n",
        "### Name: Antonio Miguel Canlas Quizon\n",
        "\n",
        "### Students with whom you have discussed (if any):"
      ]
    },
    {
      "cell_type": "code",
      "metadata": {
        "id": "NuJaG1wnWrQr",
        "colab_type": "code",
        "colab": {
          "base_uri": "https://localhost:8080/",
          "height": 122
        },
        "outputId": "d92b313d-4e3d-492f-e050-8406b39d3cfe"
      },
      "source": [
        "from google.colab import drive\n",
        "drive.mount('/content/gdrive')"
      ],
      "execution_count": 1,
      "outputs": [
        {
          "output_type": "stream",
          "text": [
            "Go to this URL in a browser: https://accounts.google.com/o/oauth2/auth?client_id=947318989803-6bn6qk8qdgf4n4g3pfee6491hc0brc4i.apps.googleusercontent.com&redirect_uri=urn%3aietf%3awg%3aoauth%3a2.0%3aoob&response_type=code&scope=email%20https%3a%2f%2fwww.googleapis.com%2fauth%2fdocs.test%20https%3a%2f%2fwww.googleapis.com%2fauth%2fdrive%20https%3a%2f%2fwww.googleapis.com%2fauth%2fdrive.photos.readonly%20https%3a%2f%2fwww.googleapis.com%2fauth%2fpeopleapi.readonly\n",
            "\n",
            "Enter your authorization code:\n",
            "··········\n",
            "Mounted at /content/gdrive\n"
          ],
          "name": "stdout"
        }
      ]
    },
    {
      "cell_type": "code",
      "metadata": {
        "id": "fP8fpkNsWvFZ",
        "colab_type": "code",
        "colab": {
          "base_uri": "https://localhost:8080/",
          "height": 68
        },
        "outputId": "cfce9a8e-b815-4f80-d7e2-bc7eae83acdf"
      },
      "source": [
        "% pwd\n",
        "% ls\n",
        "% cd /content/gdrive/'My Drive'/'NLP'/'HW2'\n",
        "% ls"
      ],
      "execution_count": 2,
      "outputs": [
        {
          "output_type": "stream",
          "text": [
            "\u001b[0m\u001b[01;34mgdrive\u001b[0m/  \u001b[01;34msample_data\u001b[0m/\n",
            "/content/gdrive/My Drive/NLP/HW2\n",
            "homework2.ipynb  hw2.pdf  \u001b[0m\u001b[01;34mimgs\u001b[0m/  \u001b[01;34m__MACOSX\u001b[0m/\n"
          ],
          "name": "stdout"
        }
      ]
    },
    {
      "cell_type": "code",
      "metadata": {
        "id": "IAwvcZP5WkhS",
        "colab_type": "code",
        "colab": {}
      },
      "source": [
        "import copy\n",
        "from collections import Counter\n",
        "from nltk.tree import Tree\n",
        "from nltk import Nonterminal\n",
        "from nltk.corpus import LazyCorpusLoader, BracketParseCorpusReader\n",
        "from collections import defaultdict\n",
        "import time"
      ],
      "execution_count": 3,
      "outputs": []
    },
    {
      "cell_type": "code",
      "metadata": {
        "id": "tj0zRY03WuYp",
        "colab_type": "code",
        "colab": {}
      },
      "source": [
        ""
      ],
      "execution_count": 3,
      "outputs": []
    },
    {
      "cell_type": "code",
      "metadata": {
        "id": "AQe-50jXWkhV",
        "colab_type": "code",
        "colab": {}
      },
      "source": [
        "st = time.time()"
      ],
      "execution_count": 4,
      "outputs": []
    },
    {
      "cell_type": "code",
      "metadata": {
        "id": "gENuZm2iWkhX",
        "colab_type": "code",
        "colab": {
          "base_uri": "https://localhost:8080/",
          "height": 68
        },
        "outputId": "7af2fcd3-c6df-4267-d683-1a22b261216a"
      },
      "source": [
        "import nltk\n",
        "nltk.download('treebank')"
      ],
      "execution_count": 5,
      "outputs": [
        {
          "output_type": "stream",
          "text": [
            "[nltk_data] Downloading package treebank to /root/nltk_data...\n",
            "[nltk_data]   Unzipping corpora/treebank.zip.\n"
          ],
          "name": "stdout"
        },
        {
          "output_type": "execute_result",
          "data": {
            "text/plain": [
              "True"
            ]
          },
          "metadata": {
            "tags": []
          },
          "execution_count": 5
        }
      ]
    },
    {
      "cell_type": "code",
      "metadata": {
        "id": "HZqhjuoUWkha",
        "colab_type": "code",
        "colab": {}
      },
      "source": [
        "def set_leave_lower(tree_string):\n",
        "    if isinstance(tree_string, Tree):\n",
        "        tree = tree_string\n",
        "    else:\n",
        "        tree = Tree.fromstring(tree_string)\n",
        "    for idx, _ in enumerate(tree.leaves()):\n",
        "        tree_location = tree.leaf_treeposition(idx)\n",
        "        non_terminal = tree[tree_location[:-1]]\n",
        "        non_terminal[0] = non_terminal[0].lower()\n",
        "    return tree\n",
        "\n",
        "def get_train_test_data():\n",
        "    '''\n",
        "    Load training and test set from nltk corpora\n",
        "    '''\n",
        "    train_num = 3900\n",
        "    test_index = range(10)\n",
        "    treebank = LazyCorpusLoader('treebank/combined', BracketParseCorpusReader, r'wsj_.*\\.mrg')\n",
        "    cnf_train = treebank.parsed_sents()[:train_num]\n",
        "    cnf_test = [treebank.parsed_sents()[i+train_num] for i in test_index]\n",
        "    #Convert to Chomsky norm form, remove auxiliary labels\n",
        "    cnf_train = [convert2cnf(t) for t in cnf_train]\n",
        "    cnf_test = [convert2cnf(t) for t in cnf_test]\n",
        "    return cnf_train, cnf_test\n",
        "def convert2cnf(original_tree):\n",
        "    '''\n",
        "    Chomsky norm form\n",
        "    '''\n",
        "    tree = copy.deepcopy(original_tree)\n",
        "    \n",
        "    #Remove cases like NP->DT, VP->NP\n",
        "    tree.collapse_unary(collapsePOS=True, collapseRoot=True)\n",
        "    #Convert to Chomsky\n",
        "    tree.chomsky_normal_form()\n",
        "    \n",
        "    tree = set_leave_lower(tree)\n",
        "    return tree"
      ],
      "execution_count": 6,
      "outputs": []
    },
    {
      "cell_type": "code",
      "metadata": {
        "id": "w9QPZVvCWkhc",
        "colab_type": "code",
        "colab": {}
      },
      "source": [
        "### GET TRAIN/TEST DATA\n",
        "cnf_train, cnf_test = get_train_test_data()"
      ],
      "execution_count": 7,
      "outputs": []
    },
    {
      "cell_type": "code",
      "metadata": {
        "id": "GnGcaxZhWkhe",
        "colab_type": "code",
        "colab": {
          "base_uri": "https://localhost:8080/",
          "height": 408
        },
        "outputId": "50c3aefe-9e20-4a9e-eb6b-8fe3ab998055"
      },
      "source": [
        "cnf_train[0].pprint()"
      ],
      "execution_count": 8,
      "outputs": [
        {
          "output_type": "stream",
          "text": [
            "(S\n",
            "  (NP-SBJ\n",
            "    (NP (NNP pierre) (NNP vinken))\n",
            "    (NP-SBJ|<,-ADJP-,>\n",
            "      (, ,)\n",
            "      (NP-SBJ|<ADJP-,>\n",
            "        (ADJP (NP (CD 61) (NNS years)) (JJ old))\n",
            "        (, ,))))\n",
            "  (S|<VP-.>\n",
            "    (VP\n",
            "      (MD will)\n",
            "      (VP\n",
            "        (VB join)\n",
            "        (VP|<NP-PP-CLR-NP-TMP>\n",
            "          (NP (DT the) (NN board))\n",
            "          (VP|<PP-CLR-NP-TMP>\n",
            "            (PP-CLR\n",
            "              (IN as)\n",
            "              (NP\n",
            "                (DT a)\n",
            "                (NP|<JJ-NN> (JJ nonexecutive) (NN director))))\n",
            "            (NP-TMP (NNP nov.) (CD 29))))))\n",
            "    (. .)))\n"
          ],
          "name": "stdout"
        }
      ]
    },
    {
      "cell_type": "markdown",
      "metadata": {
        "id": "Q6ACIAJcWkhg",
        "colab_type": "text"
      },
      "source": [
        "## Question 1\n",
        "\n",
        "To  better  understand  PCFG,  let’s  consider  the  first  parse  tree  in  the training data “cnf_train” as an example.  Run the code we have provided for you and then writedown the roles of.productions(), .rhs(), .lhs(), .leaves()in the ipynb notebook."
      ]
    },
    {
      "cell_type": "code",
      "metadata": {
        "id": "GjSPV0QAWkhg",
        "colab_type": "code",
        "colab": {
          "base_uri": "https://localhost:8080/",
          "height": 54
        },
        "outputId": "b560a71e-5feb-45a2-f942-fd2e1618e762"
      },
      "source": [
        "rules = cnf_train[0].productions()\n",
        "print(rules, type(rules[0]))"
      ],
      "execution_count": 9,
      "outputs": [
        {
          "output_type": "stream",
          "text": [
            "[S -> NP-SBJ S|<VP-.>, NP-SBJ -> NP NP-SBJ|<,-ADJP-,>, NP -> NNP NNP, NNP -> 'pierre', NNP -> 'vinken', NP-SBJ|<,-ADJP-,> -> , NP-SBJ|<ADJP-,>, , -> ',', NP-SBJ|<ADJP-,> -> ADJP ,, ADJP -> NP JJ, NP -> CD NNS, CD -> '61', NNS -> 'years', JJ -> 'old', , -> ',', S|<VP-.> -> VP ., VP -> MD VP, MD -> 'will', VP -> VB VP|<NP-PP-CLR-NP-TMP>, VB -> 'join', VP|<NP-PP-CLR-NP-TMP> -> NP VP|<PP-CLR-NP-TMP>, NP -> DT NN, DT -> 'the', NN -> 'board', VP|<PP-CLR-NP-TMP> -> PP-CLR NP-TMP, PP-CLR -> IN NP, IN -> 'as', NP -> DT NP|<JJ-NN>, DT -> 'a', NP|<JJ-NN> -> JJ NN, JJ -> 'nonexecutive', NN -> 'director', NP-TMP -> NNP CD, NNP -> 'nov.', CD -> '29', . -> '.'] <class 'nltk.grammar.Production'>\n"
          ],
          "name": "stdout"
        }
      ]
    },
    {
      "cell_type": "code",
      "metadata": {
        "id": "Ll9ZEoBPWkhj",
        "colab_type": "code",
        "colab": {
          "base_uri": "https://localhost:8080/",
          "height": 34
        },
        "outputId": "df866ae1-e7a4-45e1-d449-e8195d05deb6"
      },
      "source": [
        "rules[4].rhs(), type(rules[0].rhs()[0])"
      ],
      "execution_count": 10,
      "outputs": [
        {
          "output_type": "execute_result",
          "data": {
            "text/plain": [
              "(('vinken',), nltk.grammar.Nonterminal)"
            ]
          },
          "metadata": {
            "tags": []
          },
          "execution_count": 10
        }
      ]
    },
    {
      "cell_type": "code",
      "metadata": {
        "id": "MSliPYXpWkhl",
        "colab_type": "code",
        "colab": {
          "base_uri": "https://localhost:8080/",
          "height": 34
        },
        "outputId": "b732d64e-9d9e-4527-de4c-865d8426c011"
      },
      "source": [
        "rules[10].rhs(), type(rules[10].rhs()[0])"
      ],
      "execution_count": 11,
      "outputs": [
        {
          "output_type": "execute_result",
          "data": {
            "text/plain": [
              "(('61',), str)"
            ]
          },
          "metadata": {
            "tags": []
          },
          "execution_count": 11
        }
      ]
    },
    {
      "cell_type": "code",
      "metadata": {
        "id": "1MfcsuX0Wkhn",
        "colab_type": "code",
        "colab": {
          "base_uri": "https://localhost:8080/",
          "height": 34
        },
        "outputId": "76eabd39-cd80-40a7-e5da-6e7f7e8d82cb"
      },
      "source": [
        "rules[0].lhs(), type(rules[0].lhs())"
      ],
      "execution_count": 12,
      "outputs": [
        {
          "output_type": "execute_result",
          "data": {
            "text/plain": [
              "(S, nltk.grammar.Nonterminal)"
            ]
          },
          "metadata": {
            "tags": []
          },
          "execution_count": 12
        }
      ]
    },
    {
      "cell_type": "code",
      "metadata": {
        "id": "EhSmFIpaWkhp",
        "colab_type": "code",
        "colab": {
          "base_uri": "https://localhost:8080/",
          "height": 34
        },
        "outputId": "22536faa-e8bc-49ff-c31a-7b4fb26505a6"
      },
      "source": [
        "print(cnf_train[0].leaves())"
      ],
      "execution_count": 13,
      "outputs": [
        {
          "output_type": "stream",
          "text": [
            "['pierre', 'vinken', ',', '61', 'years', 'old', ',', 'will', 'join', 'the', 'board', 'as', 'a', 'nonexecutive', 'director', 'nov.', '29', '.']\n"
          ],
          "name": "stdout"
        }
      ]
    },
    {
      "cell_type": "markdown",
      "metadata": {
        "id": "QgPkup85Wkhr",
        "colab_type": "text"
      },
      "source": [
        "## ANSWER HERE\n",
        "- productions():  Returns the list of CFG rules that \"explain\" the tree. For each non-terminal node in the tree, tree.productions() will return a production with the parent node as LHS and the children as RHS.   \n",
        "\n",
        "- rhs(): Returns the right-hand side of a production - its children nodes\n",
        "- lhs(): Returns the left-hand side of a production - its parent node.\n",
        "- leaves(): Returns the leaves of a production - meaning the sentence formed using the set of rules"
      ]
    },
    {
      "cell_type": "markdown",
      "metadata": {
        "id": "8nU_vreyWkhs",
        "colab_type": "text"
      },
      "source": [
        "## Question 2\n",
        "To count the number of unique rules, nonterminals and terminals, pleaseimplement functions **collect_rules, collect_nonterminals, collect_terminals**\n"
      ]
    },
    {
      "cell_type": "code",
      "metadata": {
        "id": "kGAKj3WNWkhs",
        "colab_type": "code",
        "colab": {}
      },
      "source": [
        "def collect_rules(train_data):\n",
        "    '''\n",
        "    Collect the rules that appear in data.\n",
        "    params:\n",
        "        train_data: list[Tree] --- list of Tree objects\n",
        "    return:\n",
        "        rules: list[nltk.grammar.Production] --- list of rules (Production objects)\n",
        "        rules_counts: Counter object --- a dictionary that maps one rule (nltk.Nonterminal) to its number of \n",
        "                                         occurences (int) in train data.\n",
        "    '''\n",
        "    rules = list()\n",
        "    rules_counts = Counter()\n",
        "    ### YOUR CODE HERE (~ 2 lines)\n",
        "\n",
        "    # print(train_data[0].productions()\n",
        "    [[rules.append(prod) for prod in rule.productions()] for rule in train_data]\n",
        "    rules_counts = Counter(rules)\n",
        "    # print(rules_counts.most_common(5))\n",
        "\n",
        "\n",
        "\n",
        "\n",
        "\n",
        "    ### YOUR CODE HERE\n",
        "    return rules, rules_counts\n",
        "\n",
        "\n",
        "def collect_nonterminals(rules):\n",
        "    '''\n",
        "    collect nonterminals that appear in the rules\n",
        "    params:\n",
        "        rules: list[nltk.grammar.Production] --- list of rules (Production objects)\n",
        "    return:\n",
        "        nonterminals: set(nltk.Nonterminal) --- set of nonterminals \n",
        "    '''\n",
        "    nonterminals = list()\n",
        "    ### YOUR CODE HERE (at least one line)\n",
        "\n",
        "\n",
        "    for rule in rules:\n",
        "      nonterminals.append(rule.lhs())\n",
        "      for nonterm in rule.rhs():\n",
        "        if(isinstance(nonterm,str)):\n",
        "          continue\n",
        "        else:\n",
        "          nonterminals.append(nonterm)\n",
        "      \n",
        "\n",
        "\n",
        "\n",
        "\n",
        "\n",
        "    ### END OF YOUR CODE\n",
        "    return set(nonterminals)\n",
        "    \n",
        "def collect_terminals(rules):\n",
        "    '''\n",
        "    collect terminals that appear in the rules\n",
        "    params:\n",
        "        rules: list[nltk.grammar.Production] --- list of rules (Production objects)\n",
        "    return:\n",
        "        terminals: set of strings --- set of terminals    \n",
        "    '''\n",
        "    terminals = list()\n",
        "    ### YOUR CODE HERE (at least one line)\n",
        "    # [[terminals.append(strings) for strings in rule.leaves()] for rule in rules]\n",
        "    # print(terminals[0])\n",
        "    # print(rules[0])\n",
        "    for rule in rules:\n",
        "      for term in rule.rhs():\n",
        "        if(isinstance(term,str)):\n",
        "          terminals.append(term)\n",
        "        else:\n",
        "          continue\n",
        "\n",
        "\n",
        "\n",
        "\n",
        "\n",
        "    ### END OF YOUR CODE\n",
        "\n",
        "    return set(terminals)\n",
        "\n",
        "# terminals = collect_terminals(train_rules)"
      ],
      "execution_count": 14,
      "outputs": []
    },
    {
      "cell_type": "code",
      "metadata": {
        "id": "nkiiN6DmWkhv",
        "colab_type": "code",
        "colab": {}
      },
      "source": [
        "train_rules, train_rules_counts = collect_rules(cnf_train)\n",
        "nonterminals = collect_nonterminals(train_rules)\n",
        "terminals = collect_terminals(train_rules)"
      ],
      "execution_count": 15,
      "outputs": []
    },
    {
      "cell_type": "code",
      "metadata": {
        "id": "EbuTPQaeWkhw",
        "colab_type": "code",
        "colab": {
          "base_uri": "https://localhost:8080/",
          "height": 34
        },
        "outputId": "d64ece9f-5ece-493b-bc6f-f3a97ff1f56b"
      },
      "source": [
        "### CORRECT ANSWER (19xxxx, 3xxxx, 1xxxx, 7xxx)\n",
        "len(train_rules), len(set(train_rules)), len(terminals), len(nonterminals)"
      ],
      "execution_count": 16,
      "outputs": [
        {
          "output_type": "execute_result",
          "data": {
            "text/plain": [
              "(196646, 31656, 11367, 7869)"
            ]
          },
          "metadata": {
            "tags": []
          },
          "execution_count": 16
        }
      ]
    },
    {
      "cell_type": "code",
      "metadata": {
        "id": "To760KR6Wkhy",
        "colab_type": "code",
        "colab": {
          "base_uri": "https://localhost:8080/",
          "height": 34
        },
        "outputId": "1f0fcdaa-7e0d-4879-c916-a28f959feecd"
      },
      "source": [
        "print(train_rules_counts.most_common(5))"
      ],
      "execution_count": 17,
      "outputs": [
        {
          "output_type": "stream",
          "text": [
            "[(, -> ',', 4876), (DT -> 'the', 4726), (. -> '.', 3814), (PP -> IN NP, 3273), (S|<VP-.> -> VP ., 3003)]\n"
          ],
          "name": "stdout"
        }
      ]
    },
    {
      "cell_type": "markdown",
      "metadata": {
        "id": "1vmpiFThWkh0",
        "colab_type": "text"
      },
      "source": [
        "## Question 3\n",
        "Implement the function **build_pcfg** which builds a dictionary that stores the terminal rules and non-terminal rules."
      ]
    },
    {
      "cell_type": "code",
      "metadata": {
        "id": "AvoLJ2qCWkh1",
        "colab_type": "code",
        "colab": {}
      },
      "source": [
        "def build_pcfg(rules_counts):\n",
        "    '''\n",
        "    Build a dictionary that stores the terminal rules and nonterminal rules.\n",
        "    param:\n",
        "        rules_counts: Counter object --- a dictionary that maps one rule to its number of occurences in train data.\n",
        "    return:\n",
        "        rules_dict: dict(dict(dict)) --- a dictionary has a form like:\n",
        "                    rules_dict = {'terminals':{'NP':{'the':1000,'an':500}, 'ADJ':{'nice':500,'good':100}},\n",
        "                                  'nonterminals':{'S':{'NP@VP':1000},'NP':{'NP@NP':540}}}\n",
        "    When building \"rules_dict\", you need to use \"lhs()\", \"rhs()\" funtion and convert Nonterminal to str.\n",
        "    All the keys in the dictionary are of type str.\n",
        "    '@' is used as a special symbol to split left and right nonterminal strings.\n",
        "    '''\n",
        "    \n",
        "    rules_dict = dict()\n",
        "    ### rules_dict['terminals'] contains rules like \"NP->'the'\"\n",
        "    ### rules_dict['nonterminals'] contains rules like \"S->NP@VP\"\n",
        "    rules_dict['terminals'] = defaultdict(dict)\n",
        "    rules_dict['nonterminals'] = defaultdict(dict)\n",
        "    \n",
        "    ### YOUR CODE HERE\n",
        "\n",
        "    for rule in rules_counts:\n",
        "      s = '@'\n",
        "      temp_list = []\n",
        "\n",
        "      if len(rule.rhs())==1:\n",
        "          if isinstance(rule.rhs()[0],str):\n",
        "            rules_dict['terminals'][str(rule.lhs())][rule.rhs()[0]] = rules_counts[rule]\n",
        "\n",
        "      else:        \n",
        "        for child in rule.rhs():\n",
        "          temp_list.append(str(child))\n",
        "        s = s.join(temp_list)\n",
        "        # rules_dict['nonterminals'][str(rule.lhs())] = defaultdict(dict)\n",
        "        rules_dict['nonterminals'][str(rule.lhs())][s] = rules_counts[rule]\n",
        "\n",
        "\n",
        "\n",
        "\n",
        "    \n",
        "\n",
        "\n",
        "    ### END OF YOUR CODE\n",
        "    return rules_dict"
      ],
      "execution_count": 19,
      "outputs": []
    },
    {
      "cell_type": "code",
      "metadata": {
        "id": "SjU2GthxWkh3",
        "colab_type": "code",
        "colab": {
          "base_uri": "https://localhost:8080/",
          "height": 54
        },
        "outputId": "38ee5cee-96ad-4839-8b66-5f6025b53afe"
      },
      "source": [
        "train_rules_dict = build_pcfg(train_rules_counts)\n",
        "print(train_rules_dict['nonterminals']['ADJP'])\n",
        "# print(train_rules_dict['nonterminals'].keys())"
      ],
      "execution_count": 20,
      "outputs": [
        {
          "output_type": "stream",
          "text": [
            "{'NP@JJ': 10, 'JJ@JJ': 8, 'JJ@S': 5, 'RB@JJ': 77, 'RB@VBN': 42, 'RB@JJR': 22, 'RB@DT': 2, 'JJ@PP': 42, 'CD@NN': 57, 'JJ@PRN': 1, 'QP@NN': 8, 'QP@-NONE-': 58, 'NP-ADV@JJR': 3, 'VBG@ADJP|<CC-VBG>': 1, 'RB@ADJP|<JJ-CC-JJ>': 2, 'ADJP@PP': 9, 'RB@ADJP|<RB-JJ>': 3, 'VBN@PP': 2, 'QP@JJR': 1, 'RBR@JJ': 22, '$@ADJP|<JJ--NONE->': 7, 'ADVP-TMP+RB@VBN': 1, 'CD@NNS': 1, 'RB@ADJP|<JJ-PP>': 6, 'RB@ADJP|<RB-JJ-PP>': 1, 'JJ@ADJP|<CD-NN>': 1, 'ADVP@JJ': 4, 'ADJP@ADJP|<,-ADJP-,-ADJP>': 1, 'ADVP-TMP@JJ': 1, 'RBS@JJ': 18, 'JJR@ADJP|<CC-JJR>': 2, '$@ADJP|<CD--NONE->': 28, 'ADVP-TMP+RB@ADJP|<RB-JJ>': 1, 'JJ@NP-TMP': 10, 'ADVP@VBN': 2, 'JJ@ADJP|<CC-JJ>': 18, 'JJ@ADJP|<CC-NNP>': 1, 'JJ@SBAR': 2, 'JJ@PP-LOC': 2, 'ADJP+JJ@ADJP|<,-CC-ADJP-,>': 1, 'NN@NN': 1, 'ADJP+JJ@ADJP|<CC-ADJP>': 1, 'RBS@ADJP|<RB-JJ>': 1, 'NNP@JJ': 6, 'JJ@ADJP|<,-JJ-CC-JJ>': 3, 'JJR@JJ': 4, 'NNS@ADJP|<CC-NNS>': 1, 'NNP@ADJP|<,-JJ>': 8, 'JJ@ADJP|<,-JJ-,-JJ-CC-NN>': 1, 'JJ@NP-TMP+CD': 11, 'NNP@NNP': 3, 'ADVP@ADJP|<JJ-PP>': 1, \"RB@ADJP|<``-JJ-CC-JJ-''>\": 1, 'RB@RB': 4, 'JJ@ADJP|<,-CC-JJ>': 1, 'ADJP@ADJP|<CC-ADJP>': 1, 'RB@ADJP|<VBN-PRT+RP-PP>': 1, 'JJS@JJ': 3, 'VBN@PP-CLR': 1, 'RB@ADJP|<JJ-PP-LOC>': 1, 'JJ@JJR': 1, 'JJ@ADJP|<CC-VBG>': 1, 'JJ@ADJP|<RB-SBAR+-NONE->': 1, 'NN@ADJP|<RB-SBAR+-NONE->': 1, 'QP@ADJP|<RB-JJ>': 1, 'ADVP-TMP+RB@JJ': 1, 'ADJP@ADJP|<,-CC-ADJP>': 1, 'RB@ADJP|<RB-PP-S>': 1, 'RB@ADJP|<RB-S>': 1, 'NN@JJ': 1, 'ADJP@ADJP|<CC-ADJP+JJ>': 2, 'RB@ADJP|<RBR-JJ>': 2, 'NNS@ADJP|<PRN-VBN>': 1, 'RB@ADJP|<JJR-IN>': 1, 'JJR@VBN': 1, 'RB@VBG': 2, 'RBS@VBN': 1, 'JJR@PP': 1, 'RBR@ADJP|<JJ-PP>': 1, 'ADVP+RB@ADJP|<RB-JJR>': 1, 'DT@ADJP|<ADJP+JJ-CC-ADJP+JJ>': 1, \"``@ADJP|<JJ-''-CC-``-JJ>\": 1, 'JJS@ADJP|<JJ-S>': 1, 'JJ@RB': 1, '$@ADJP|<CD-JJ>': 1, 'CD@ADJP|<CD-NN>': 8, 'JJ@PP-TMP': 2, 'JJ@JJS': 1, 'VB@JJR': 1, 'NP-ADV@JJ': 1, 'JJ@NP': 1, 'VBN@JJ': 1, 'NNP@ADJP|<NNP-,-JJ>': 1, 'ADJP+JJR@PP': 1, 'NN@ADJP|<CC-NN>': 1, '$@JJ': 1, \"``@ADJP|<RB-''-JJR>\": 1, 'JJ@ADJP|<CC-RB>': 1, 'CD@JJ': 1, 'IN@NN': 1, 'NP@ADJP|<JJ-PP>': 1, '``@ADJP|<RB-VBN>': 1, 'NNP@ADJP|<,-NNP-JJ>': 1, 'ADJP@ADJP|<CC-ADJP+JJR>': 1, 'JJ@VBN': 1, 'VBN@ADJP|<CC-JJ>': 1}\n"
          ],
          "name": "stdout"
        }
      ]
    },
    {
      "cell_type": "markdown",
      "metadata": {
        "id": "ZrEiZvfDWkh5",
        "colab_type": "text"
      },
      "source": [
        "## Question 4\n",
        "Estimate the probability of rule $NP\\rightarrow NNP@NNP$ "
      ]
    },
    {
      "cell_type": "code",
      "metadata": {
        "id": "ejl-xXiEWkh5",
        "colab_type": "code",
        "colab": {
          "base_uri": "https://localhost:8080/",
          "height": 34
        },
        "outputId": "4a345cae-4f41-46af-df3f-855809a2f8ac"
      },
      "source": [
        "np_count = 0\n",
        "for val in train_rules_dict['nonterminals']['NP'].values():\n",
        "  np_count += val\n",
        "# print(np_count)\n",
        "print(\"The probability of the rule is: \" + str(train_rules_dict['nonterminals']['NP']['NNP@NNP']/np_count))\n",
        "# prob = train_rules_dict['nonterminals'][NP]"
      ],
      "execution_count": 21,
      "outputs": [
        {
          "output_type": "stream",
          "text": [
            "The probability of the rule is: 0.03950843529348353\n"
          ],
          "name": "stdout"
        }
      ]
    },
    {
      "cell_type": "markdown",
      "metadata": {
        "id": "EBNGNvo6Wkh7",
        "colab_type": "text"
      },
      "source": [
        "## Question 5\n",
        "Find the terminal symbols in ''cnf_test[0]'' that never appeared in the PCFG we built. "
      ]
    },
    {
      "cell_type": "code",
      "metadata": {
        "id": "dpmfxNwfWkh7",
        "colab_type": "code",
        "colab": {
          "base_uri": "https://localhost:8080/",
          "height": 34
        },
        "outputId": "9e073b6f-7257-490c-e7db-4369ee825ee5"
      },
      "source": [
        "# print(cnf_test[0].leaves())\n",
        "# for dic in train_rules_dict['terminals'].values():\n",
        "ret = cnf_test[0].leaves() \n",
        "for terminal in cnf_test[0].leaves():\n",
        "  for dic in train_rules_dict['terminals'].values():\n",
        "    # print(dic)\n",
        "    if terminal in dic:\n",
        "      try:\n",
        "        ret.remove(terminal)\n",
        "      except ValueError:\n",
        "        pass\n",
        "\n",
        "print(ret)"
      ],
      "execution_count": 22,
      "outputs": [
        {
          "output_type": "stream",
          "text": [
            "['constitutional-law']\n"
          ],
          "name": "stdout"
        }
      ]
    },
    {
      "cell_type": "markdown",
      "metadata": {
        "id": "o3NBdL8SWkh9",
        "colab_type": "text"
      },
      "source": [
        "## Question 6\n",
        "We can use smoothing techniques to handle these cases. A simple smoothing method is as follows. We first create a new \"unknown\" terminal symbol $unk$.\n",
        "\n",
        "Next, for each original non-terminal symbol $A\\in N$, we add one new rule $A \\rightarrow unk$ to the original PCFG.\n",
        "\n",
        "The smoothed probabilities for all rules can then be estimated as:\n",
        "$$q_{smooth}(A \\rightarrow \\beta) = \\frac {count(A \\rightarrow \\beta)}{count(A)+1}$$\n",
        "$$q_{smooth}(A \\rightarrow unk) = \\frac {1}{count(A)+1}$$\n",
        "where $|V|$ is the count of unique terminal symbols.\n",
        "\n",
        "\n",
        "Implement the function **smooth_rules_prob** which returns the smoothed rule probabilities"
      ]
    },
    {
      "cell_type": "code",
      "metadata": {
        "id": "JFzfXUMJWkh-",
        "colab_type": "code",
        "colab": {}
      },
      "source": [
        "def smooth_rules_prob(rules_counts):\n",
        "    '''\n",
        "    params:\n",
        "        rules_counts: dict(dict(dict)) --- a dictionary has a form like:\n",
        "                      rules_counts = {'terminals':{'NP':{'the':1000,'an':500}, 'ADJ':{'nice':500,'good':100}},\n",
        "                                      'nonterminals':{'S':{'NP@VP':1000},'NP':{'NP@NP':540}}}\n",
        "    \n",
        "    return:\n",
        "        rules_prob: dict(dict(dict)) --- a dictionary that has a form like:\n",
        "                               rules_prob = {'terminals':{'NP':{'the':0.6,'an':0.3, '<unk>':0.1},\n",
        "                                                          'ADJ':{'nice':0.6,'good':0.3,'<unk>':0.1},\n",
        "                                                          'S':{'<unk>':0.01}}}\n",
        "                                             'nonterminals':{'S':{'NP@VP':0.99}}\n",
        "    '''\n",
        "    rules_prob = copy.deepcopy(rules_counts)\n",
        "    unk = '<unk>'\n",
        "    ### Hint: don't forget to consider nonterminal symbols that don't appear in rules_counts['terminals'].keys()\n",
        "    ### YOUR CODE HERE\n",
        "\n",
        "    for dic in rules_prob['terminals'].values():\n",
        "      total = 0\n",
        "      for val in dic.values():\n",
        "        total += val\n",
        "      for key,val in dic.items():\n",
        "        # print(key,val)\n",
        "        dic[key] = val/(total+1)\n",
        "      dic[unk] = 1/(total+1)\n",
        "      # print(dic[unk])\n",
        "    \n",
        "    for key,dic in rules_prob['nonterminals'].items():\n",
        "      total = 0\n",
        "      for val in dic.values():\n",
        "        total += val\n",
        "      for k,val in dic.items():\n",
        "        # print(key,val)\n",
        "        dic[k] = val/(total+1)\n",
        "      if key not in rules_prob['terminals']:\n",
        "        rules_prob['terminals'][key] = {unk:(1/(total+1))}\n",
        "\n",
        "\n",
        "\n",
        "\n",
        "      \n",
        "    \n",
        "        \n",
        "      \n",
        "\n",
        "\n",
        "    ### END OF YOUR CODE\n",
        "    return rules_prob\n"
      ],
      "execution_count": 24,
      "outputs": []
    },
    {
      "cell_type": "code",
      "metadata": {
        "id": "T3cLUHnMWkh_",
        "colab_type": "code",
        "colab": {}
      },
      "source": [
        "s_rules_prob = smooth_rules_prob(train_rules_dict)\n",
        "terminals.add('<unk>')"
      ],
      "execution_count": 25,
      "outputs": []
    },
    {
      "cell_type": "code",
      "metadata": {
        "id": "C0k7my2gWkiB",
        "colab_type": "code",
        "colab": {
          "base_uri": "https://localhost:8080/",
          "height": 85
        },
        "outputId": "1e018dc0-78a4-4659-f55c-f1a605bded56"
      },
      "source": [
        "print(s_rules_prob['nonterminals']['S']['NP-SBJ@S|<VP-.>'])\n",
        "print(s_rules_prob['nonterminals']['S']['NP-SBJ-1@S|<VP-.>'])\n",
        "print(s_rules_prob['nonterminals']['NP']['NNP@NNP'])\n",
        "print(s_rules_prob['terminals']['NP'])"
      ],
      "execution_count": 26,
      "outputs": [
        {
          "output_type": "stream",
          "text": [
            "0.1300172371337109\n",
            "0.025240088648116228\n",
            "0.039506305917861376\n",
            "{'<unk>': 5.389673385792821e-05}\n"
          ],
          "name": "stdout"
        }
      ]
    },
    {
      "cell_type": "code",
      "metadata": {
        "id": "qVkbPHz-WkiD",
        "colab_type": "code",
        "colab": {
          "base_uri": "https://localhost:8080/",
          "height": 34
        },
        "outputId": "7c5813e8-61d2-4db6-9023-0d7e7a875ed8"
      },
      "source": [
        "len(terminals)"
      ],
      "execution_count": 27,
      "outputs": [
        {
          "output_type": "execute_result",
          "data": {
            "text/plain": [
              "11368"
            ]
          },
          "metadata": {
            "tags": []
          },
          "execution_count": 27
        }
      ]
    },
    {
      "cell_type": "markdown",
      "metadata": {
        "id": "8tt6OQ6OWkiF",
        "colab_type": "text"
      },
      "source": [
        "## CKY Algorithm\n",
        "\n",
        "Similar to the Viterbi algorithm, the CKY algorithm is a dynamic-programming algorithm. Given a PCFG $G=(N, \\ \\Sigma, \\ S, \\ R, \\ q)$, we can use the CKY algorithm described in class to find the highest scoring parse tree for a sentence. \n",
        "\n",
        "First, let us complete the *CKY* function from scratch using only Python built-in functions and the Numpy package. \n",
        "\n",
        "The output should be two dictionaries $\\pi$ and $bp$, which store the optimal probability and backpointer information respectively.\n",
        "\n",
        "Given a sentence $w_0, w_1, ...,w_{n-1}$,  $\\pi(i, k, X)$, $bp(i, k, X)$ refer to the highest score and backpointer for the (partial) parse tree that has the root X (a non-terminal symbol) and covers the word span $w_i, ..., w_{k-1}$, where $0 \\le i < k \\le n$. Note that a backpointer includes both the best grammar rule chosen and the best split point.\n",
        "![tree](imgs/parse_tree.png)\n"
      ]
    },
    {
      "cell_type": "markdown",
      "metadata": {
        "id": "c4RYXO2KWkiF",
        "colab_type": "text"
      },
      "source": [
        "## Question 7\n",
        "Implement **CKY** function and run the test code to check your implementation."
      ]
    },
    {
      "cell_type": "code",
      "metadata": {
        "id": "kjRTxt4NWkiH",
        "colab_type": "code",
        "colab": {
          "base_uri": "https://localhost:8080/",
          "height": 34
        },
        "outputId": "88839bba-092c-4db9-bbf7-9f4823fabc86"
      },
      "source": [
        "import math\n",
        "def CKY(sent, rules_prob):\n",
        "    '''\n",
        "    params:\n",
        "        sent: list[str] --- a list of strings\n",
        "        rules_prob: dict(dict(dict)) --- a dictionary that has a form like:\n",
        "                                           rules_prob = {'terminals':{'NP':{'the':0.6,'an':0.3, '<unk>':0.1},\n",
        "                                                                      'ADJ':{'nice':0.6,'good':0.3,'<unk>':0.1},\n",
        "                                                                      'S':{'<unk>':0.01}}}\n",
        "                                                         'nonterminals':{'S':{'NP@VP':0.99}}\n",
        "    return:\n",
        "        score: dict() --- score[(i,i+span)][root] represents the highest score for the parse (sub)tree that has the root \"root\"\n",
        "                          across words w_i, w_{i+1},..., w_{i+span-1}.\n",
        "        back: dict() --- back[(i,i+span)][root] = (split , left_child, right_child); split: int; \n",
        "                         left_child: str; right_child: str. \n",
        "    '''\n",
        "    score = defaultdict(dict)\n",
        "    back = defaultdict(dict)\n",
        "    sent_len = len(sent)\n",
        "    ### YOUR CODE HERE\n",
        "\n",
        "\n",
        "    word_set = set()\n",
        "    for term in rules_prob['terminals'].keys():\n",
        "        for word in rules_prob['terminals'][term].keys():\n",
        "            word_set.add(word)\n",
        "\n",
        "    split = 0\n",
        "    for i in range(sent_len):\n",
        "      for term_key,term_val in rules_prob['terminals'].items():\n",
        "        if sent[i] in word_set and sent[i] in rules_prob['terminals'][term_key]:\n",
        "            score[(i,i+1)][term_key] = math.log(rules_prob['terminals'][term_key][sent[i]])\n",
        "            back[(i,i+1)][term_key] = (split,sent[i],None)\n",
        "        elif sent[i] in word_set and sent[i] not in rules_prob['terminals'][term_key]:\n",
        "          continue\n",
        "        else:\n",
        "          score[(i,i+1)][term_key] = math.log(rules_prob['terminals'][term_key]['<unk>'])\n",
        "          back[(i,i+1)][term_key] = (split,sent[i],None)\n",
        "    \n",
        "\n",
        "    for span in range(2,sent_len+1):\n",
        "      for begin in range(0,sent_len-span+1):\n",
        "        end=begin+span\n",
        "        for split in range(begin+1,end):\n",
        "          for nonterm_key in rules_prob['nonterminals'].keys():\n",
        "            for combined_child, probability in rules_prob['nonterminals'][nonterm_key].items():\n",
        "\n",
        "              left_child, right_child = combined_child.split('@')\n",
        "              left_childs = back[(begin,split)]\n",
        "              right_childs = back[(split,end)]\n",
        "          \n",
        "              if left_child in left_childs and right_child in right_childs:\n",
        "\n",
        "                if nonterm_key not in score[(begin,end)]:\n",
        "                  score[(begin,end)][nonterm_key] = math.log(probability) + score[(begin,split)][left_child]+ score[(split,end)][right_child]\n",
        "                  back[(begin,end)][nonterm_key] = (split,left_child,right_child)\n",
        "                else:\n",
        "                  temp = math.log(probability) + score[(begin,split)][left_child]+ score[(split,end)][right_child]\n",
        "                  if temp > score[(begin,end)][nonterm_key]:\n",
        "                      score[(begin,end)][nonterm_key] = temp\n",
        "                      back[(begin,end)][nonterm_key] = (split,left_child,right_child)\n",
        "\n",
        "\n",
        "\n",
        "\n",
        "    \n",
        "\n",
        "\n",
        "\n",
        "\n",
        "    ### END OF YOUR CODE                  \n",
        "    return score, back\n",
        "\n",
        "sent = cnf_train[0].leaves()\n",
        "score, back = CKY(sent, s_rules_prob)\n",
        "print(score[(0, len(sent))]['S'])"
      ],
      "execution_count": 28,
      "outputs": [
        {
          "output_type": "stream",
          "text": [
            "-117.52227496068694\n"
          ],
          "name": "stdout"
        }
      ]
    },
    {
      "cell_type": "code",
      "metadata": {
        "id": "qZrribRzWkiJ",
        "colab_type": "code",
        "colab": {}
      },
      "source": [
        "sent = cnf_train[0].leaves()\n",
        "score, back = CKY(sent, s_rules_prob)\n"
      ],
      "execution_count": 29,
      "outputs": []
    },
    {
      "cell_type": "code",
      "metadata": {
        "id": "ntBprM7ZWkiL",
        "colab_type": "code",
        "colab": {
          "base_uri": "https://localhost:8080/",
          "height": 34
        },
        "outputId": "9bf9db28-dad7-4c31-9a2f-7f0f3ab915f4"
      },
      "source": [
        "score[(0, len(sent))]['S']"
      ],
      "execution_count": 30,
      "outputs": [
        {
          "output_type": "execute_result",
          "data": {
            "text/plain": [
              "-117.52227496068694"
            ]
          },
          "metadata": {
            "tags": []
          },
          "execution_count": 30
        }
      ]
    },
    {
      "cell_type": "markdown",
      "metadata": {
        "id": "Up5xHqJgWkiM",
        "colab_type": "text"
      },
      "source": [
        "## Question 8\n",
        "Implement **build_tree** function according to algorithm 2 to reconstruct theparse tree"
      ]
    },
    {
      "cell_type": "code",
      "metadata": {
        "id": "ycSF2sutWkiN",
        "colab_type": "code",
        "colab": {}
      },
      "source": [
        "def build_tree(back, root,nonterminals):\n",
        "    '''\n",
        "    Build the tree recursively.\n",
        "    params:\n",
        "        back: dict() --- back[(i,i+span)][X] = (split , left_child, right_child); split:int; left_child: str; right_child: str.\n",
        "        root: tuple() --- (begin, end, nonterminal_symbol), e.g., (0, 10, 'S\n",
        "    return:\n",
        "        tree: nltk.tree.Tree\n",
        "    '''\n",
        "    begin = root[0]\n",
        "    end = root[1]\n",
        "    root_label = root[2]\n",
        "    ### YOUR CODE HERE\n",
        "    split, left_label, right_label = back[(begin, end)][root_label]\n",
        "    if split == 0: \n",
        "        tree = Tree(root_label, [left_label])\n",
        "    else:\n",
        "        left_child = build_tree(back, (begin, split, left_label), nonterminals)\n",
        "        right_child = build_tree(back, (split, end, right_label), nonterminals)\n",
        "        tree = Tree(root_label, [left_child, right_child])\n",
        "    ### END OF YOUR CODE \n",
        "    return tree"
      ],
      "execution_count": 31,
      "outputs": []
    },
    {
      "cell_type": "code",
      "metadata": {
        "id": "u_N-QApGWkiP",
        "colab_type": "code",
        "colab": {
          "base_uri": "https://localhost:8080/",
          "height": 408
        },
        "outputId": "367da058-e97c-448e-9152-a113e5ff5017"
      },
      "source": [
        "build_tree(back, (0, len(sent), 'S'), nonterminals).pprint()"
      ],
      "execution_count": 32,
      "outputs": [
        {
          "output_type": "stream",
          "text": [
            "(S\n",
            "  (NP-SBJ\n",
            "    (NP (NNP pierre) (NNP vinken))\n",
            "    (NP-SBJ|<,-NP-,>\n",
            "      (, ,)\n",
            "      (NP-SBJ|<NP-,>\n",
            "        (NP (CD 61) (NP|<NNS-JJ> (NNS years) (JJ old)))\n",
            "        (, ,))))\n",
            "  (S|<VP-.>\n",
            "    (VP\n",
            "      (MD will)\n",
            "      (VP\n",
            "        (VB join)\n",
            "        (VP|<NP-PP-CLR-NP-TMP>\n",
            "          (NP (DT the) (NN board))\n",
            "          (VP|<PP-CLR-NP-TMP>\n",
            "            (PP-CLR\n",
            "              (IN as)\n",
            "              (NP\n",
            "                (DT a)\n",
            "                (NP|<JJ-NN> (JJ nonexecutive) (NN director))))\n",
            "            (NP-TMP (NNP nov.) (CD 29))))))\n",
            "    (. .)))\n"
          ],
          "name": "stdout"
        }
      ]
    },
    {
      "cell_type": "markdown",
      "metadata": {
        "id": "pqtoQMosWkiR",
        "colab_type": "text"
      },
      "source": [
        "## Question 9"
      ]
    },
    {
      "cell_type": "code",
      "metadata": {
        "id": "N23-J-zVWkiR",
        "colab_type": "code",
        "colab": {}
      },
      "source": [
        "def set_leave_index(tree):\n",
        "    '''\n",
        "    Label the leaves of the tree with indexes\n",
        "    Arg:\n",
        "        tree: original tree, nltk.tree.Tree\n",
        "    Return:\n",
        "        tree: preprocessed tree, nltk.tree.Tree\n",
        "    '''\n",
        "    for idx, _ in enumerate(tree.leaves()):\n",
        "        tree_location = tree.leaf_treeposition(idx)\n",
        "        non_terminal = tree[tree_location[:-1]]\n",
        "        non_terminal[0] = non_terminal[0] + \"_\" + str(idx)\n",
        "    return tree\n",
        "\n",
        "def get_nonterminal_bracket(tree):\n",
        "    '''\n",
        "    Obtain the constituent brackets of a tree\n",
        "    Arg:\n",
        "        tree: tree, nltk.tree.Tree\n",
        "    Return:\n",
        "        nonterminal_brackets: constituent brackets, set\n",
        "    '''\n",
        "    nonterminal_brackets = set()\n",
        "    for tr in tree.subtrees():\n",
        "        label = tr.label()\n",
        "        #print(tr.leaves())\n",
        "        if len(tr.leaves()) == 0:\n",
        "            continue\n",
        "        start = tr.leaves()[0].split('_')[-1]\n",
        "        end = tr.leaves()[-1].split('_')[-1]\n",
        "        if start != end:\n",
        "            nonterminal_brackets.add(label+'-('+start+':'+end+')')\n",
        "    return nonterminal_brackets\n",
        "\n",
        "def word2lower(w, terminals):\n",
        "    '''\n",
        "    Map an unknow word to \"unk\"\n",
        "    '''\n",
        "    return w.lower() if w in terminals else '<unk>'"
      ],
      "execution_count": 33,
      "outputs": []
    },
    {
      "cell_type": "code",
      "metadata": {
        "id": "4JMIAjcpWkiT",
        "colab_type": "code",
        "colab": {
          "base_uri": "https://localhost:8080/",
          "height": 867
        },
        "outputId": "6d53c799-a467-4ff1-dbea-b14e15159caf"
      },
      "source": [
        "correct_count = 0\n",
        "pred_count = 0\n",
        "gold_count = 0\n",
        "for i, t in enumerate(cnf_test):\n",
        "    #Protect the original tree \n",
        "    t = copy.deepcopy(t)\n",
        "    sent = t.leaves()  \n",
        "    #Map the unknow words to \"unk\"\n",
        "    sent = [word2lower(w.lower(), terminals) for w in sent]\n",
        "    \n",
        "    #CKY algorithm\n",
        "    score, back = CKY(sent, s_rules_prob)\n",
        "    candidate_tree = build_tree(back, (0, len(sent), 'S'), nonterminals)\n",
        "    \n",
        "    #Extract constituents from the gold tree and predicted tree\n",
        "    pred_tree = set_leave_index(candidate_tree)\n",
        "    pred_brackets = get_nonterminal_bracket(pred_tree)\n",
        "    \n",
        "    #Count correct constituents\n",
        "    pred_count += len(pred_brackets)\n",
        "    gold_tree = set_leave_index(t)\n",
        "    gold_brackets = get_nonterminal_bracket(gold_tree)\n",
        "    gold_count += len(gold_brackets)\n",
        "    current_correct_num = len(pred_brackets.intersection(gold_brackets))\n",
        "    correct_count += current_correct_num\n",
        "    \n",
        "    print('#'*20)\n",
        "    print('Test Tree:', i+1)\n",
        "    print('Constituent number in the predicted tree:', len(pred_brackets))\n",
        "    print('Constituent number in the gold tree:', len(gold_brackets))\n",
        "    print('Correct constituent number:', current_correct_num)\n",
        "\n",
        "recall = correct_count/gold_count\n",
        "precision = correct_count/pred_count\n",
        "f1 = 2*recall*precision/(recall+precision)"
      ],
      "execution_count": 34,
      "outputs": [
        {
          "output_type": "stream",
          "text": [
            "####################\n",
            "Test Tree: 1\n",
            "Constituent number in the predicted tree: 20\n",
            "Constituent number in the gold tree: 20\n",
            "Correct constituent number: 14\n",
            "####################\n",
            "Test Tree: 2\n",
            "Constituent number in the predicted tree: 54\n",
            "Constituent number in the gold tree: 54\n",
            "Correct constituent number: 28\n",
            "####################\n",
            "Test Tree: 3\n",
            "Constituent number in the predicted tree: 30\n",
            "Constituent number in the gold tree: 30\n",
            "Correct constituent number: 23\n",
            "####################\n",
            "Test Tree: 4\n",
            "Constituent number in the predicted tree: 17\n",
            "Constituent number in the gold tree: 17\n",
            "Correct constituent number: 16\n",
            "####################\n",
            "Test Tree: 5\n",
            "Constituent number in the predicted tree: 32\n",
            "Constituent number in the gold tree: 32\n",
            "Correct constituent number: 26\n",
            "####################\n",
            "Test Tree: 6\n",
            "Constituent number in the predicted tree: 40\n",
            "Constituent number in the gold tree: 40\n",
            "Correct constituent number: 18\n",
            "####################\n",
            "Test Tree: 7\n",
            "Constituent number in the predicted tree: 22\n",
            "Constituent number in the gold tree: 22\n",
            "Correct constituent number: 7\n",
            "####################\n",
            "Test Tree: 8\n",
            "Constituent number in the predicted tree: 18\n",
            "Constituent number in the gold tree: 18\n",
            "Correct constituent number: 6\n",
            "####################\n",
            "Test Tree: 9\n",
            "Constituent number in the predicted tree: 28\n",
            "Constituent number in the gold tree: 28\n",
            "Correct constituent number: 16\n",
            "####################\n",
            "Test Tree: 10\n",
            "Constituent number in the predicted tree: 40\n",
            "Constituent number in the gold tree: 40\n",
            "Correct constituent number: 8\n"
          ],
          "name": "stdout"
        }
      ]
    },
    {
      "cell_type": "code",
      "metadata": {
        "id": "zJZdy3nsWkiU",
        "colab_type": "code",
        "colab": {
          "base_uri": "https://localhost:8080/",
          "height": 34
        },
        "outputId": "a54d2755-7c46-48bb-8a8a-24fce246d785"
      },
      "source": [
        "print('Overall precision: {:.3f}, recall: {:.3f}, f1: {:.3f}'.format(precision, recall, f1))"
      ],
      "execution_count": 35,
      "outputs": [
        {
          "output_type": "stream",
          "text": [
            "Overall precision: 0.538, recall: 0.538, f1: 0.538\n"
          ],
          "name": "stdout"
        }
      ]
    },
    {
      "cell_type": "code",
      "metadata": {
        "id": "zlrkpetrWkiW",
        "colab_type": "code",
        "colab": {
          "base_uri": "https://localhost:8080/",
          "height": 34
        },
        "outputId": "c78490a5-15b0-4544-ad2d-87da38234afb"
      },
      "source": [
        "print('Overall precision: {:.3f}, recall: {:.3f}, f1: {:.3f}'.format(precision, recall, f1))"
      ],
      "execution_count": 36,
      "outputs": [
        {
          "output_type": "stream",
          "text": [
            "Overall precision: 0.538, recall: 0.538, f1: 0.538\n"
          ],
          "name": "stdout"
        }
      ]
    },
    {
      "cell_type": "code",
      "metadata": {
        "id": "JlEHs_hAWkiX",
        "colab_type": "code",
        "colab": {
          "base_uri": "https://localhost:8080/",
          "height": 34
        },
        "outputId": "8660ce0f-05f6-4053-b946-4db4b073062f"
      },
      "source": [
        "et=time.time()\n",
        "print(et - st)"
      ],
      "execution_count": 37,
      "outputs": [
        {
          "output_type": "stream",
          "text": [
            "874.4197461605072\n"
          ],
          "name": "stdout"
        }
      ]
    },
    {
      "cell_type": "code",
      "metadata": {
        "id": "sYQ-nVXQzU_P",
        "colab_type": "code",
        "colab": {}
      },
      "source": [
        ""
      ],
      "execution_count": null,
      "outputs": []
    }
  ]
}